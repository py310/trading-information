{
  "cells": [
    {
      "cell_type": "code",
      "execution_count": null,
      "metadata": {
        "id": "PpdoDYox3DL9"
      },
      "outputs": [],
      "source": [
        "from scipy.stats import norm\n",
        "from numpy import sqrt, log, exp"
      ]
    },
    {
      "attachments": {},
      "cell_type": "markdown",
      "metadata": {
        "id": "2qxN-f0jVutE"
      },
      "source": [
        "# The Black-Scholes Option Pricing Formula\n",
        "\n",
        "In its basic form, the Black-Scholes formula for pricing European-style options is given by:\n",
        "\n",
        "$$C = S \\cdot N(d_1) - K \\cdot e^{-rT} \\cdot N(d_2)$$\n",
        "$$P = K \\cdot e^{-rT} \\cdot N(-d_2) - S \\cdot N(-d_1)$$\n",
        "\n",
        "where:\n",
        "- $C$ is the price of the call option\n",
        "- $P$ is the price of the put option\n",
        "- $S$ is the current price of the underlying asset\n",
        "- $K$ is the strike price of the option\n",
        "- $r$ is the risk-free interest rate\n",
        "- $T$ is the time to expiration (in years)\n",
        "- $e$ is the base of the natural logarithm (approximately 2.71828)\n",
        "- $N(x)$ represents the cumulative standard normal distribution function\n",
        "- $d1$ and $d2$ are calculated as follows:\n",
        "  $$d_1 = \\frac{\\ln(S/K) + (r + \\frac{\\sigma^2}{2})T}{\\sigma \\sqrt{T}}$$\n",
        "  $$d_2 = d_1 - \\sigma \\sqrt{T}$$\n",
        "- $\\sigma$ is the volatility of the underlying asset\n",
        "\n",
        "The formula assumes certain assumptions and limitations and is primarily applicable to European-style options on non-dividend-paying stocks.\n"
      ]
    },
    {
      "attachments": {},
      "cell_type": "markdown",
      "metadata": {},
      "source": [
        "## Python implementation"
      ]
    },
    {
      "cell_type": "code",
      "execution_count": null,
      "metadata": {
        "id": "wh729Am7VWB9"
      },
      "outputs": [],
      "source": [
        "def d1(S, K, T, sigma, r):\n",
        "    return (log(S/K) + (r+sigma**2/2)*T) / (sigma*sqrt(T))\n",
        "\n",
        "def d2(S, K, T, sigma, r):\n",
        "    return d1(S, K, T, sigma, r) - sigma*sqrt(T)\n",
        "\n",
        "def Black_Scholes_price(S, K, T, c_p, sigma, r):\n",
        "    if c_p == 'c':\n",
        "        return S * norm.cdf(d1(S, K, T, sigma, r)) - K * exp(-r*T) * norm.cdf(d2(S, K, T, sigma, r))\n",
        "    elif c_p == 'p':\n",
        "        return K * exp(-r*T) * norm.cdf(-d2(S, K, T, sigma, r)) - S * norm.cdf(-d1(S, K, T, sigma, r))"
      ]
    },
    {
      "attachments": {},
      "cell_type": "markdown",
      "metadata": {
        "id": "kTRlIaxPxlVJ"
      },
      "source": [
        "# The Option Greeks\n",
        "\n",
        "The option Greeks are measures that quantify the sensitivity of option prices to changes in various factors. They help traders and investors understand and manage the risks associated with options. The main option Greeks are as follows:\n",
        "\n",
        "### Delta:\n",
        "Delta measures the rate of change of the option price relative to changes in the price of the underlying asset.\n",
        "\n",
        "For a call option:\n",
        "$$\\Delta_{\\text{call}} = N(d_1)$$\n",
        "For a put option:\n",
        "$$\\Delta_{\\text{put}} = N(d_1) - 1 = -N(-d_1)$$\n",
        "\n",
        "### Gamma:\n",
        "Gamma represents the rate of change of the option's delta with respect to changes in the price of the underlying asset.\n",
        "$$\\Gamma = \\frac{N'(d_1)}{S \\cdot \\sigma \\cdot \\sqrt{T}}$$\n",
        "\n",
        "### Theta:\n",
        "Theta measures the rate of change of the option price over time, often referred to as time decay.\n",
        "\n",
        "For a call option:\n",
        "$$\\Theta_{\\text{call}} = -\\frac{S \\cdot N'(d_1) \\cdot \\sigma}{2\\sqrt{T}} - r \\cdot K \\cdot e^{-rT} \\cdot N(d_2)$$\n",
        "For a put option:\n",
        "$$\\Theta_{\\text{put}} = -\\frac{S \\cdot N'(d_1) \\cdot \\sigma}{2\\sqrt{T}} + r \\cdot K \\cdot e^{-rT} \\cdot N(-d_2)$$\n",
        "\n",
        "### Vega:\n",
        "Vega quantifies the sensitivity of the option price to changes in the implied volatility of the underlying asset.\n",
        "$$Vega = S \\cdot \\sqrt{T} \\cdot N'(d_1)$$\n",
        "\n",
        "### Rho:\n",
        "Rho indicates the sensitivity of the option price to changes in the risk-free interest rate.\n",
        "\n",
        "For a call option:\n",
        "$$\\rho_{\\text{call}} = K \\cdot T \\cdot e^{-rT} \\cdot N(d_2)$$\n",
        "For a put option:\n",
        "$$\\rho_{\\text{put}} = -K \\cdot T \\cdot e^{-rT} \\cdot N(-d_2)$$\n",
        "\n",
        "where:\n",
        "- $N(x)$ represents the cumulative standard normal distribution function\n",
        "- $N'(x)$ represents the probability density function of the standard normal distribution\n",
        "- $S$ is the current price of the underlying asset\n",
        "- $K$ is the strike price of the option\n",
        "- $r$ is the risk-free interest rate\n",
        "- $\\sigma$ is the implied volatility of the underlying asset\n",
        "- $T$ is the time to expiration (in years)\n",
        "- $d_1$ and $d_2$ are calculated as follows:\n",
        "   $$d_1 = \\frac{\\ln\\left(\\frac{S}{K}\\right) + \\left(r + \\frac{\\sigma^2}{2}\\right)T}{\\sigma \\sqrt{T}}$$\n",
        "   $$d_2 = d_1 - \\sigma \\sqrt{T}$$\n",
        "\n",
        "Note that these formulas are simplified and assume certain assumptions and limitations. They are primarily applicable to European-style options on non-dividend-paying stocks.\n",
        "\n",
        "Each Greek provides unique insights into the behavior of options and can be used to manage and adjust options positions based on changing market conditions."
      ]
    },
    {
      "attachments": {},
      "cell_type": "markdown",
      "metadata": {},
      "source": [
        "## Python implementation"
      ]
    },
    {
      "cell_type": "code",
      "execution_count": null,
      "metadata": {
        "id": "4NmRvSdf4ldI"
      },
      "outputs": [],
      "source": [
        "def delta(S, K, T, c_p, sigma, r):\n",
        "    if c_p == 'c':\n",
        "        return norm.cdf(d1(S, K, T, sigma, r))\n",
        "    elif c_p == 'p':\n",
        "        return -norm.cdf(-d1(S, K, T, sigma, r))\n",
        "\n",
        "def gamma(S, K, T, c_p, sigma, r):\n",
        "    return norm.pdf(d1(S, K, T, sigma, r)) / (S*sigma*sqrt(T))\n",
        "\n",
        "def theta(S, K, T, c_p, sigma, r):\n",
        "    if c_p == 'c':\n",
        "        return (-(S*norm.pdf(d1(S, K, T, sigma, r))*sigma)/(2*sqrt(T)) - r*K*exp(-r*T)*norm.cdf(d2(S, K, T, sigma, r))) / 365\n",
        "    elif c_p == 'p':\n",
        "        return (-(S*norm.pdf(d1(S, K, T, sigma, r))*sigma)/(2*sqrt(T)) + r*K*exp(-r*T)*norm.cdf(-d2(S, K, T, sigma, r))) / 365\n",
        "\n",
        "def vega(S, K, T, c_p, sigma, r):\n",
        "    return 0.01*(S*sqrt(T)*norm.pdf(d1(S, K, T, sigma, r)))\n",
        "\n",
        "def rho(S, K, T, c_p, sigma, r):\n",
        "    if c_p == 'c':\n",
        "        return 0.01*(K*T*exp(-r*T)*norm.cdf(d2(S, K, T, sigma, r)))\n",
        "    elif c_p == 'p':\n",
        "        return 0.01*(-K*T*exp(-r*T)*norm.cdf(-d2(S, K, T, sigma, r)))"
      ]
    },
    {
      "attachments": {},
      "cell_type": "markdown",
      "metadata": {},
      "source": [
        "# Implied Volatility\n",
        "\n",
        "Implied volatility is the estimated volatility of the underlying asset that makes the calculated option price equal to the market price. It is a measure of the market's expectation of future volatility of the underlying asset. The Black-Scholes formula can be used to estimate implied volatility.\n",
        "\n",
        "To calculate implied volatility, we can use the following steps:\n",
        "\n",
        "1. Define the Black-Scholes formula for an option price:\n",
        "$$C = S \\cdot N(d_1) - K \\cdot e^{-rT} \\cdot N(d_2)$$\n",
        "where $C$ is the call option price, $S$ is the current price of the underlying asset, $K$ is the strike price of the option, $r$ is the risk-free interest rate, $T$ is the time to expiration (in years), $N(x)$ is the cumulative standard normal distribution function, and $d_1$ and $d_2$ are calculated as follows:\n",
        "$$d_1 = \\frac{\\ln\\left(\\frac{S}{K}\\right) + \\left(r + \\frac{\\sigma^2}{2}\\right)T}{\\sigma \\sqrt{T}}$$\n",
        "$$d_2 = d_1 - \\sigma \\sqrt{T}$$\n",
        "Here, $\\sigma$ represents the implied volatility.\n",
        "\n",
        "\n",
        "2. To calculate implied volatility, you need to solve the above equations for the implied volatility ($\\sigma$). This involves iteratively finding the value of $\\sigma$ that makes the calculated option price ($C$ or $P$) equal to the market price.\n",
        "\n",
        "Note that the Black-Scholes formula assumes certain assumptions and limitations, such as constant volatility, no dividends, and efficient markets.\n",
        "\n",
        "Keep in mind that implied volatility is just an estimation and may vary depending on market conditions and the assumptions made in the option pricing model.\n",
        "\n"
      ]
    },
    {
      "attachments": {},
      "cell_type": "markdown",
      "metadata": {
        "id": "uwNvaFxcV4AB"
      },
      "source": [
        "### Implied Volatility – Brute Force Method"
      ]
    },
    {
      "cell_type": "code",
      "execution_count": null,
      "metadata": {
        "id": "yBO0Sf55V6Ir"
      },
      "outputs": [],
      "source": [
        "def iv_brute_force(S, K, T, c_p, r, market_price):\n",
        "    MAX_TRY = 10000 # max number of calculations\n",
        "    ONE_CENT = 0.01 # acceptable difference between the calculated and market prices\n",
        "    STEP = 0.0001   # step variable to adjust the sigma values\n",
        "    sigma = 0.1     # initial guess of sigma value\n",
        "    for i in range(MAX_TRY):\n",
        "        bs_price = Black_Scholes_price(S, K, T, c_p, sigma, r)\n",
        "        diff = market_price - bs_price\n",
        "        if diff > ONE_CENT:\n",
        "            sigma += STEP\n",
        "        elif diff < -ONE_CENT:\n",
        "            sigma -= STEP\n",
        "        else:\n",
        "            return sigma\n",
        "    return sigma"
      ]
    },
    {
      "attachments": {},
      "cell_type": "markdown",
      "metadata": {
        "id": "I_Ws-ZITWfFg"
      },
      "source": [
        "### Implied Volatility – Newton Raphson Method"
      ]
    },
    {
      "cell_type": "code",
      "execution_count": null,
      "metadata": {
        "id": "T3SSRzgbV8YE"
      },
      "outputs": [],
      "source": [
        "def iv_newton(S, K, T, c_p, r, market_price):\n",
        "    MAX_TRY = 1000  # max number of calculations\n",
        "    ONE_CENT = 0.01 # acceptable difference between the calculated and market prices\n",
        "    sigma = 0.1     # initial guess of sigma value\n",
        "    for i in range(MAX_TRY):\n",
        "        bs_price = Black_Scholes_price(S, K, T, c_p, sigma, r)\n",
        "        diff = market_price - bs_price\n",
        "        if abs(diff) < ONE_CENT:\n",
        "            return sigma\n",
        "        sigma += diff / (vega(S, K, T, c_p, sigma, r)*100)\n",
        "    return sigma"
      ]
    },
    {
      "attachments": {},
      "cell_type": "markdown",
      "metadata": {
        "id": "MlekabM3c1df"
      },
      "source": [
        "### Implied Volatility - optimize.brentq"
      ]
    },
    {
      "cell_type": "code",
      "execution_count": null,
      "metadata": {
        "id": "ucuXPJhDc8Qf"
      },
      "outputs": [],
      "source": [
        "'''\n",
        "https://docs.scipy.org/doc/scipy/reference/generated/scipy.optimize.brentq.html\n",
        "'''\n",
        "from scipy.optimize import brentq\n",
        "def iv_brentq(S, K, T, c_p, r, market_price):\n",
        "\n",
        "    def prices_diff(sigma):\n",
        "        return Black_Scholes_price(S, K, T, c_p, sigma, r) - market_price\n",
        "\n",
        "    return brentq(prices_diff, 0.0001, 10, maxiter=1000)"
      ]
    },
    {
      "attachments": {},
      "cell_type": "markdown",
      "metadata": {
        "id": "KUYh_Xrtn7QS"
      },
      "source": [
        "### Implied Volatility - optimize.fsolve"
      ]
    },
    {
      "cell_type": "code",
      "execution_count": null,
      "metadata": {
        "id": "nemAXHP-n-1b"
      },
      "outputs": [],
      "source": [
        "'''\n",
        "https://docs.scipy.org/doc/scipy/reference/generated/scipy.optimize.fsolve.html\n",
        "'''\n",
        "from scipy.optimize import fsolve\n",
        "def iv_fsolve(S, K, T, c_p, r, market_price):\n",
        "\n",
        "    def prices_diff(sigma):\n",
        "        return Black_Scholes_price(S, K, T, c_p, sigma, r) - market_price\n",
        "\n",
        "    return fsolve(prices_diff, 0.1)[0]"
      ]
    },
    {
      "attachments": {},
      "cell_type": "markdown",
      "metadata": {
        "id": "6pXTE73Svac8"
      },
      "source": [
        "# Run tests"
      ]
    },
    {
      "cell_type": "code",
      "execution_count": null,
      "metadata": {
        "colab": {
          "base_uri": "https://localhost:8080/"
        },
        "id": "C0ThJIN8vc7w",
        "outputId": "d3a66736-e160-4743-b532-7dfd844808a9"
      },
      "outputs": [],
      "source": [
        "# input parameters\n",
        "S = 356.61  # current price of the underlying asset\n",
        "c_p = 'p'   # option type: 'c' - call, 'p' - put\n",
        "K = 324     # strike price of the option\n",
        "T = 65/365  # time to expiration in 'days/365'\n",
        "r = 0       # risk-free interest rate\n",
        "\n",
        "sigma = 0.3279      # volatility of the asset\n",
        "market_price = 6.79 # option market price for IV calculation\n",
        "\n",
        "# run tests\n",
        "print ('Black Scholes Price:', Black_Scholes_price(S, K, T, c_p, sigma, r))\n",
        "print ('Delta:', delta(S, K, T, c_p, sigma, r))\n",
        "print ('Gamma:', gamma(S, K, T, c_p, sigma, r))\n",
        "print ('Vega: ', vega(S, K, T, c_p, sigma, r))\n",
        "print ('Theta:', theta(S, K, T, c_p, sigma, r))\n",
        "print ('Rho:  ', rho(S, K, T, c_p, sigma, r))\n",
        "print ('IV Brute Force:    ', iv_brute_force(S, K, T, c_p, r, market_price))\n",
        "print ('IV Newton:         ', iv_newton(S, K, T, c_p, r, market_price))\n",
        "print ('IV optimize.brentq:', iv_brentq(S, K, T, c_p, r, market_price))\n",
        "print ('IV optimize.fsolve:', iv_fsolve(S, K, T, c_p, r, market_price))"
      ]
    }
  ],
  "metadata": {
    "colab": {
      "provenance": []
    },
    "kernelspec": {
      "display_name": "base",
      "language": "python",
      "name": "python3"
    },
    "language_info": {
      "codemirror_mode": {
        "name": "ipython",
        "version": 3
      },
      "file_extension": ".py",
      "mimetype": "text/x-python",
      "name": "python",
      "nbconvert_exporter": "python",
      "pygments_lexer": "ipython3",
      "version": "3.7.6 (default, Jan  8 2020, 20:23:39) [MSC v.1916 64 bit (AMD64)]"
    },
    "vscode": {
      "interpreter": {
        "hash": "88279d2366fe020547cde40dd65aa0e3aa662a6ec1f3ca12d88834876c85e1a6"
      }
    }
  },
  "nbformat": 4,
  "nbformat_minor": 0
}
